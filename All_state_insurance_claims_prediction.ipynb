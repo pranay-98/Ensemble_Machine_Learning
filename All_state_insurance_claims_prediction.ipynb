{
  "cells": [
    {
      "cell_type": "code",
      "execution_count": 1,
      "id": "90fc0710",
      "metadata": {
        "colab": {
          "base_uri": "https://localhost:8080/"
        },
        "id": "90fc0710",
        "outputId": "f7c3368b-ea00-4718-df64-f12ddd7deeef"
      },
      "outputs": [
        {
          "output_type": "stream",
          "name": "stdout",
          "text": [
            "\u001b[33mWARNING: Running pip as the 'root' user can result in broken permissions and conflicting behaviour with the system package manager. It is recommended to use a virtual environment instead: https://pip.pypa.io/warnings/venv\u001b[0m\u001b[33m\n",
            "\u001b[0m\u001b[33mWARNING: Running pip as the 'root' user can result in broken permissions and conflicting behaviour with the system package manager. It is recommended to use a virtual environment instead: https://pip.pypa.io/warnings/venv\u001b[0m\u001b[33m\n",
            "\u001b[0m\u001b[33mWARNING: Running pip as the 'root' user can result in broken permissions and conflicting behaviour with the system package manager. It is recommended to use a virtual environment instead: https://pip.pypa.io/warnings/venv\u001b[0m\u001b[33m\n",
            "\u001b[0m\u001b[33mWARNING: Running pip as the 'root' user can result in broken permissions and conflicting behaviour with the system package manager. It is recommended to use a virtual environment instead: https://pip.pypa.io/warnings/venv\u001b[0m\u001b[33m\n",
            "\u001b[0m\u001b[33mWARNING: Running pip as the 'root' user can result in broken permissions and conflicting behaviour with the system package manager. It is recommended to use a virtual environment instead: https://pip.pypa.io/warnings/venv\u001b[0m\u001b[33m\n",
            "\u001b[0m\u001b[33mWARNING: Running pip as the 'root' user can result in broken permissions and conflicting behaviour with the system package manager. It is recommended to use a virtual environment instead: https://pip.pypa.io/warnings/venv\u001b[0m\u001b[33m\n",
            "\u001b[0m"
          ]
        }
      ],
      "source": [
        "!pip install --upgrade pip --quiet\n",
        "!pip install pandas --quiet\n",
        "!pip install numpy --quiet\n",
        "!pip install matplotlib --quiet\n",
        "!pip install sklearn --quiet\n",
        "!pip install seaborn --quiet"
      ]
    },
    {
      "cell_type": "code",
      "execution_count": 1,
      "id": "e3f092ad",
      "metadata": {
        "id": "e3f092ad"
      },
      "outputs": [],
      "source": [
        "import pandas as pd\n",
        "import numpy as np\n",
        "import re\n",
        "import matplotlib.pyplot as plt\n",
        "from sklearn.impute import SimpleImputer\n",
        "import seaborn as sns\n",
        "from sklearn.feature_selection import VarianceThreshold\n",
        "from sklearn.preprocessing import LabelEncoder\n",
        "from sklearn.feature_selection import chi2\n",
        "import math\n",
        "import pickle\n",
        "\n",
        "pd.options.display.max_columns = None"
      ]
    },
    {
      "cell_type": "code",
      "execution_count": 2,
      "id": "b53f8c61",
      "metadata": {
        "id": "b53f8c61"
      },
      "outputs": [],
      "source": [
        "import warnings\n",
        "warnings.filterwarnings(\"ignore\")"
      ]
    },
    {
      "cell_type": "markdown",
      "id": "15843ef4",
      "metadata": {
        "id": "15843ef4"
      },
      "source": [
        "## EDA "
      ]
    },
    {
      "cell_type": "code",
      "execution_count": 3,
      "id": "ccc3d4ba",
      "metadata": {
        "id": "ccc3d4ba"
      },
      "outputs": [],
      "source": [
        "train_df = pd.read_csv(\"train.csv\")"
      ]
    },
    {
      "cell_type": "code",
      "execution_count": 4,
      "id": "6d4e8308",
      "metadata": {
        "colab": {
          "base_uri": "https://localhost:8080/",
          "height": 270
        },
        "id": "6d4e8308",
        "outputId": "e5bef62b-be20-4d6e-bd5e-3d0a9731829e"
      },
      "outputs": [
        {
          "output_type": "execute_result",
          "data": {
            "text/plain": [
              "   id cat1 cat2 cat3 cat4 cat5 cat6 cat7 cat8 cat9 cat10 cat11 cat12 cat13  \\\n",
              "0   1    A    B    A    B    A    A    A    A    B     A     B     A     A   \n",
              "1   2    A    B    A    A    A    A    A    A    B     B     A     A     A   \n",
              "2   5    A    B    A    A    B    A    A    A    B     B     B     B     B   \n",
              "3  10    B    B    A    B    A    A    A    A    B     A     A     A     A   \n",
              "4  11    A    B    A    B    A    A    A    A    B     B     A     B     A   \n",
              "\n",
              "  cat14 cat15 cat16 cat17 cat18 cat19 cat20 cat21 cat22 cat23 cat24 cat25  \\\n",
              "0     A     A     A     A     A     A     A     A     A     B     A     A   \n",
              "1     A     A     A     A     A     A     A     A     A     A     A     A   \n",
              "2     A     A     A     A     A     A     A     A     A     A     A     A   \n",
              "3     A     A     A     A     A     A     A     A     A     B     A     A   \n",
              "4     A     A     A     A     A     A     A     A     A     B     A     A   \n",
              "\n",
              "  cat26 cat27 cat28 cat29 cat30 cat31 cat32 cat33 cat34 cat35 cat36 cat37  \\\n",
              "0     A     A     A     A     A     A     A     A     A     A     A     A   \n",
              "1     A     A     A     A     A     A     A     A     A     A     A     A   \n",
              "2     A     A     A     A     A     A     A     A     A     A     B     A   \n",
              "3     A     A     A     A     A     A     A     A     A     A     A     A   \n",
              "4     A     A     A     A     A     A     A     A     A     A     A     A   \n",
              "\n",
              "  cat38 cat39 cat40 cat41 cat42 cat43 cat44 cat45 cat46 cat47 cat48 cat49  \\\n",
              "0     A     A     A     A     A     A     A     A     A     A     A     A   \n",
              "1     A     A     A     A     A     A     A     A     A     A     A     A   \n",
              "2     A     A     A     A     A     A     A     A     A     A     A     A   \n",
              "3     A     A     A     A     A     A     A     A     A     A     A     A   \n",
              "4     A     A     A     A     A     A     A     A     A     A     A     A   \n",
              "\n",
              "  cat50 cat51 cat52 cat53 cat54 cat55 cat56 cat57 cat58 cat59 cat60 cat61  \\\n",
              "0     A     A     A     A     A     A     A     A     A     A     A     A   \n",
              "1     A     A     A     A     A     A     A     A     A     A     A     A   \n",
              "2     A     A     A     A     A     A     A     A     A     A     A     A   \n",
              "3     A     A     A     A     A     A     A     A     A     A     A     A   \n",
              "4     A     A     A     A     A     A     A     A     A     A     A     A   \n",
              "\n",
              "  cat62 cat63 cat64 cat65 cat66 cat67 cat68 cat69 cat70 cat71 cat72 cat73  \\\n",
              "0     A     A     A     A     A     A     A     A     A     A     A     A   \n",
              "1     A     A     A     A     A     A     A     A     A     A     A     A   \n",
              "2     A     A     A     A     A     A     A     A     A     A     A     A   \n",
              "3     A     A     A     A     A     A     A     A     A     A     A     B   \n",
              "4     A     A     A     A     A     A     A     A     A     A     B     A   \n",
              "\n",
              "  cat74 cat75 cat76 cat77 cat78 cat79 cat80 cat81 cat82 cat83 cat84 cat85  \\\n",
              "0     A     B     A     D     B     B     D     D     B     D     C     B   \n",
              "1     A     A     A     D     B     B     D     D     A     B     C     B   \n",
              "2     A     A     A     D     B     B     B     D     B     D     C     B   \n",
              "3     A     A     A     D     B     B     D     D     D     B     C     B   \n",
              "4     A     A     A     D     B     D     B     D     B     B     C     B   \n",
              "\n",
              "  cat86 cat87 cat88 cat89 cat90 cat91 cat92 cat93 cat94 cat95 cat96 cat97  \\\n",
              "0     D     B     A     A     A     A     A     D     B     C     E     A   \n",
              "1     D     B     A     A     A     A     A     D     D     C     E     E   \n",
              "2     B     B     A     A     A     A     A     D     D     C     E     E   \n",
              "3     D     B     A     A     A     A     A     D     D     C     E     E   \n",
              "4     B     C     A     A     A     B     H     D     B     D     E     E   \n",
              "\n",
              "  cat98 cat99 cat100 cat101 cat102 cat103 cat104 cat105 cat106 cat107 cat108  \\\n",
              "0     C     T      B      G      A      A      I      E      G      J      G   \n",
              "1     D     T      L      F      A      A      E      E      I      K      K   \n",
              "2     A     D      L      O      A      B      E      F      H      F      A   \n",
              "3     D     T      I      D      A      A      E      E      I      K      K   \n",
              "4     A     P      F      J      A      A      D      E      K      G      B   \n",
              "\n",
              "  cat109 cat110 cat111 cat112 cat113 cat114 cat115 cat116     cont1     cont2  \\\n",
              "0     BU     BC      C     AS      S      A      O     LB  0.726300  0.245921   \n",
              "1     BI     CQ      A     AV     BM      A      O     DP  0.330514  0.737068   \n",
              "2     AB     DK      A      C     AF      A      I     GK  0.261841  0.358319   \n",
              "3     BI     CS      C      N     AE      A      O     DJ  0.321594  0.555782   \n",
              "4      H      C      C      Y     BM      A      K     CK  0.273204  0.159990   \n",
              "\n",
              "      cont3     cont4     cont5     cont6     cont7    cont8    cont9  \\\n",
              "0  0.187583  0.789639  0.310061  0.718367  0.335060  0.30260  0.67135   \n",
              "1  0.592681  0.614134  0.885834  0.438917  0.436585  0.60087  0.35127   \n",
              "2  0.484196  0.236924  0.397069  0.289648  0.315545  0.27320  0.26076   \n",
              "3  0.527991  0.373816  0.422268  0.440945  0.391128  0.31796  0.32128   \n",
              "4  0.527991  0.473202  0.704268  0.178193  0.247408  0.24564  0.22089   \n",
              "\n",
              "    cont10    cont11    cont12    cont13    cont14     loss  \n",
              "0  0.83510  0.569745  0.594646  0.822493  0.714843  2213.18  \n",
              "1  0.43919  0.338312  0.366307  0.611431  0.304496  1283.60  \n",
              "2  0.32446  0.381398  0.373424  0.195709  0.774425  3005.09  \n",
              "3  0.44467  0.327915  0.321570  0.605077  0.602642   939.85  \n",
              "4  0.21230  0.204687  0.202213  0.246011  0.432606  2763.85  "
            ],
            "text/html": [
              "\n",
              "  <div id=\"df-351699e6-e977-4e99-9b91-1c33d69d968a\">\n",
              "    <div class=\"colab-df-container\">\n",
              "      <div>\n",
              "<style scoped>\n",
              "    .dataframe tbody tr th:only-of-type {\n",
              "        vertical-align: middle;\n",
              "    }\n",
              "\n",
              "    .dataframe tbody tr th {\n",
              "        vertical-align: top;\n",
              "    }\n",
              "\n",
              "    .dataframe thead th {\n",
              "        text-align: right;\n",
              "    }\n",
              "</style>\n",
              "<table border=\"1\" class=\"dataframe\">\n",
              "  <thead>\n",
              "    <tr style=\"text-align: right;\">\n",
              "      <th></th>\n",
              "      <th>id</th>\n",
              "      <th>cat1</th>\n",
              "      <th>cat2</th>\n",
              "      <th>cat3</th>\n",
              "      <th>cat4</th>\n",
              "      <th>cat5</th>\n",
              "      <th>cat6</th>\n",
              "      <th>cat7</th>\n",
              "      <th>cat8</th>\n",
              "      <th>cat9</th>\n",
              "      <th>cat10</th>\n",
              "      <th>cat11</th>\n",
              "      <th>cat12</th>\n",
              "      <th>cat13</th>\n",
              "      <th>cat14</th>\n",
              "      <th>cat15</th>\n",
              "      <th>cat16</th>\n",
              "      <th>cat17</th>\n",
              "      <th>cat18</th>\n",
              "      <th>cat19</th>\n",
              "      <th>cat20</th>\n",
              "      <th>cat21</th>\n",
              "      <th>cat22</th>\n",
              "      <th>cat23</th>\n",
              "      <th>cat24</th>\n",
              "      <th>cat25</th>\n",
              "      <th>cat26</th>\n",
              "      <th>cat27</th>\n",
              "      <th>cat28</th>\n",
              "      <th>cat29</th>\n",
              "      <th>cat30</th>\n",
              "      <th>cat31</th>\n",
              "      <th>cat32</th>\n",
              "      <th>cat33</th>\n",
              "      <th>cat34</th>\n",
              "      <th>cat35</th>\n",
              "      <th>cat36</th>\n",
              "      <th>cat37</th>\n",
              "      <th>cat38</th>\n",
              "      <th>cat39</th>\n",
              "      <th>cat40</th>\n",
              "      <th>cat41</th>\n",
              "      <th>cat42</th>\n",
              "      <th>cat43</th>\n",
              "      <th>cat44</th>\n",
              "      <th>cat45</th>\n",
              "      <th>cat46</th>\n",
              "      <th>cat47</th>\n",
              "      <th>cat48</th>\n",
              "      <th>cat49</th>\n",
              "      <th>cat50</th>\n",
              "      <th>cat51</th>\n",
              "      <th>cat52</th>\n",
              "      <th>cat53</th>\n",
              "      <th>cat54</th>\n",
              "      <th>cat55</th>\n",
              "      <th>cat56</th>\n",
              "      <th>cat57</th>\n",
              "      <th>cat58</th>\n",
              "      <th>cat59</th>\n",
              "      <th>cat60</th>\n",
              "      <th>cat61</th>\n",
              "      <th>cat62</th>\n",
              "      <th>cat63</th>\n",
              "      <th>cat64</th>\n",
              "      <th>cat65</th>\n",
              "      <th>cat66</th>\n",
              "      <th>cat67</th>\n",
              "      <th>cat68</th>\n",
              "      <th>cat69</th>\n",
              "      <th>cat70</th>\n",
              "      <th>cat71</th>\n",
              "      <th>cat72</th>\n",
              "      <th>cat73</th>\n",
              "      <th>cat74</th>\n",
              "      <th>cat75</th>\n",
              "      <th>cat76</th>\n",
              "      <th>cat77</th>\n",
              "      <th>cat78</th>\n",
              "      <th>cat79</th>\n",
              "      <th>cat80</th>\n",
              "      <th>cat81</th>\n",
              "      <th>cat82</th>\n",
              "      <th>cat83</th>\n",
              "      <th>cat84</th>\n",
              "      <th>cat85</th>\n",
              "      <th>cat86</th>\n",
              "      <th>cat87</th>\n",
              "      <th>cat88</th>\n",
              "      <th>cat89</th>\n",
              "      <th>cat90</th>\n",
              "      <th>cat91</th>\n",
              "      <th>cat92</th>\n",
              "      <th>cat93</th>\n",
              "      <th>cat94</th>\n",
              "      <th>cat95</th>\n",
              "      <th>cat96</th>\n",
              "      <th>cat97</th>\n",
              "      <th>cat98</th>\n",
              "      <th>cat99</th>\n",
              "      <th>cat100</th>\n",
              "      <th>cat101</th>\n",
              "      <th>cat102</th>\n",
              "      <th>cat103</th>\n",
              "      <th>cat104</th>\n",
              "      <th>cat105</th>\n",
              "      <th>cat106</th>\n",
              "      <th>cat107</th>\n",
              "      <th>cat108</th>\n",
              "      <th>cat109</th>\n",
              "      <th>cat110</th>\n",
              "      <th>cat111</th>\n",
              "      <th>cat112</th>\n",
              "      <th>cat113</th>\n",
              "      <th>cat114</th>\n",
              "      <th>cat115</th>\n",
              "      <th>cat116</th>\n",
              "      <th>cont1</th>\n",
              "      <th>cont2</th>\n",
              "      <th>cont3</th>\n",
              "      <th>cont4</th>\n",
              "      <th>cont5</th>\n",
              "      <th>cont6</th>\n",
              "      <th>cont7</th>\n",
              "      <th>cont8</th>\n",
              "      <th>cont9</th>\n",
              "      <th>cont10</th>\n",
              "      <th>cont11</th>\n",
              "      <th>cont12</th>\n",
              "      <th>cont13</th>\n",
              "      <th>cont14</th>\n",
              "      <th>loss</th>\n",
              "    </tr>\n",
              "  </thead>\n",
              "  <tbody>\n",
              "    <tr>\n",
              "      <th>0</th>\n",
              "      <td>1</td>\n",
              "      <td>A</td>\n",
              "      <td>B</td>\n",
              "      <td>A</td>\n",
              "      <td>B</td>\n",
              "      <td>A</td>\n",
              "      <td>A</td>\n",
              "      <td>A</td>\n",
              "      <td>A</td>\n",
              "      <td>B</td>\n",
              "      <td>A</td>\n",
              "      <td>B</td>\n",
              "      <td>A</td>\n",
              "      <td>A</td>\n",
              "      <td>A</td>\n",
              "      <td>A</td>\n",
              "      <td>A</td>\n",
              "      <td>A</td>\n",
              "      <td>A</td>\n",
              "      <td>A</td>\n",
              "      <td>A</td>\n",
              "      <td>A</td>\n",
              "      <td>A</td>\n",
              "      <td>B</td>\n",
              "      <td>A</td>\n",
              "      <td>A</td>\n",
              "      <td>A</td>\n",
              "      <td>A</td>\n",
              "      <td>A</td>\n",
              "      <td>A</td>\n",
              "      <td>A</td>\n",
              "      <td>A</td>\n",
              "      <td>A</td>\n",
              "      <td>A</td>\n",
              "      <td>A</td>\n",
              "      <td>A</td>\n",
              "      <td>A</td>\n",
              "      <td>A</td>\n",
              "      <td>A</td>\n",
              "      <td>A</td>\n",
              "      <td>A</td>\n",
              "      <td>A</td>\n",
              "      <td>A</td>\n",
              "      <td>A</td>\n",
              "      <td>A</td>\n",
              "      <td>A</td>\n",
              "      <td>A</td>\n",
              "      <td>A</td>\n",
              "      <td>A</td>\n",
              "      <td>A</td>\n",
              "      <td>A</td>\n",
              "      <td>A</td>\n",
              "      <td>A</td>\n",
              "      <td>A</td>\n",
              "      <td>A</td>\n",
              "      <td>A</td>\n",
              "      <td>A</td>\n",
              "      <td>A</td>\n",
              "      <td>A</td>\n",
              "      <td>A</td>\n",
              "      <td>A</td>\n",
              "      <td>A</td>\n",
              "      <td>A</td>\n",
              "      <td>A</td>\n",
              "      <td>A</td>\n",
              "      <td>A</td>\n",
              "      <td>A</td>\n",
              "      <td>A</td>\n",
              "      <td>A</td>\n",
              "      <td>A</td>\n",
              "      <td>A</td>\n",
              "      <td>A</td>\n",
              "      <td>A</td>\n",
              "      <td>A</td>\n",
              "      <td>A</td>\n",
              "      <td>B</td>\n",
              "      <td>A</td>\n",
              "      <td>D</td>\n",
              "      <td>B</td>\n",
              "      <td>B</td>\n",
              "      <td>D</td>\n",
              "      <td>D</td>\n",
              "      <td>B</td>\n",
              "      <td>D</td>\n",
              "      <td>C</td>\n",
              "      <td>B</td>\n",
              "      <td>D</td>\n",
              "      <td>B</td>\n",
              "      <td>A</td>\n",
              "      <td>A</td>\n",
              "      <td>A</td>\n",
              "      <td>A</td>\n",
              "      <td>A</td>\n",
              "      <td>D</td>\n",
              "      <td>B</td>\n",
              "      <td>C</td>\n",
              "      <td>E</td>\n",
              "      <td>A</td>\n",
              "      <td>C</td>\n",
              "      <td>T</td>\n",
              "      <td>B</td>\n",
              "      <td>G</td>\n",
              "      <td>A</td>\n",
              "      <td>A</td>\n",
              "      <td>I</td>\n",
              "      <td>E</td>\n",
              "      <td>G</td>\n",
              "      <td>J</td>\n",
              "      <td>G</td>\n",
              "      <td>BU</td>\n",
              "      <td>BC</td>\n",
              "      <td>C</td>\n",
              "      <td>AS</td>\n",
              "      <td>S</td>\n",
              "      <td>A</td>\n",
              "      <td>O</td>\n",
              "      <td>LB</td>\n",
              "      <td>0.726300</td>\n",
              "      <td>0.245921</td>\n",
              "      <td>0.187583</td>\n",
              "      <td>0.789639</td>\n",
              "      <td>0.310061</td>\n",
              "      <td>0.718367</td>\n",
              "      <td>0.335060</td>\n",
              "      <td>0.30260</td>\n",
              "      <td>0.67135</td>\n",
              "      <td>0.83510</td>\n",
              "      <td>0.569745</td>\n",
              "      <td>0.594646</td>\n",
              "      <td>0.822493</td>\n",
              "      <td>0.714843</td>\n",
              "      <td>2213.18</td>\n",
              "    </tr>\n",
              "    <tr>\n",
              "      <th>1</th>\n",
              "      <td>2</td>\n",
              "      <td>A</td>\n",
              "      <td>B</td>\n",
              "      <td>A</td>\n",
              "      <td>A</td>\n",
              "      <td>A</td>\n",
              "      <td>A</td>\n",
              "      <td>A</td>\n",
              "      <td>A</td>\n",
              "      <td>B</td>\n",
              "      <td>B</td>\n",
              "      <td>A</td>\n",
              "      <td>A</td>\n",
              "      <td>A</td>\n",
              "      <td>A</td>\n",
              "      <td>A</td>\n",
              "      <td>A</td>\n",
              "      <td>A</td>\n",
              "      <td>A</td>\n",
              "      <td>A</td>\n",
              "      <td>A</td>\n",
              "      <td>A</td>\n",
              "      <td>A</td>\n",
              "      <td>A</td>\n",
              "      <td>A</td>\n",
              "      <td>A</td>\n",
              "      <td>A</td>\n",
              "      <td>A</td>\n",
              "      <td>A</td>\n",
              "      <td>A</td>\n",
              "      <td>A</td>\n",
              "      <td>A</td>\n",
              "      <td>A</td>\n",
              "      <td>A</td>\n",
              "      <td>A</td>\n",
              "      <td>A</td>\n",
              "      <td>A</td>\n",
              "      <td>A</td>\n",
              "      <td>A</td>\n",
              "      <td>A</td>\n",
              "      <td>A</td>\n",
              "      <td>A</td>\n",
              "      <td>A</td>\n",
              "      <td>A</td>\n",
              "      <td>A</td>\n",
              "      <td>A</td>\n",
              "      <td>A</td>\n",
              "      <td>A</td>\n",
              "      <td>A</td>\n",
              "      <td>A</td>\n",
              "      <td>A</td>\n",
              "      <td>A</td>\n",
              "      <td>A</td>\n",
              "      <td>A</td>\n",
              "      <td>A</td>\n",
              "      <td>A</td>\n",
              "      <td>A</td>\n",
              "      <td>A</td>\n",
              "      <td>A</td>\n",
              "      <td>A</td>\n",
              "      <td>A</td>\n",
              "      <td>A</td>\n",
              "      <td>A</td>\n",
              "      <td>A</td>\n",
              "      <td>A</td>\n",
              "      <td>A</td>\n",
              "      <td>A</td>\n",
              "      <td>A</td>\n",
              "      <td>A</td>\n",
              "      <td>A</td>\n",
              "      <td>A</td>\n",
              "      <td>A</td>\n",
              "      <td>A</td>\n",
              "      <td>A</td>\n",
              "      <td>A</td>\n",
              "      <td>A</td>\n",
              "      <td>A</td>\n",
              "      <td>D</td>\n",
              "      <td>B</td>\n",
              "      <td>B</td>\n",
              "      <td>D</td>\n",
              "      <td>D</td>\n",
              "      <td>A</td>\n",
              "      <td>B</td>\n",
              "      <td>C</td>\n",
              "      <td>B</td>\n",
              "      <td>D</td>\n",
              "      <td>B</td>\n",
              "      <td>A</td>\n",
              "      <td>A</td>\n",
              "      <td>A</td>\n",
              "      <td>A</td>\n",
              "      <td>A</td>\n",
              "      <td>D</td>\n",
              "      <td>D</td>\n",
              "      <td>C</td>\n",
              "      <td>E</td>\n",
              "      <td>E</td>\n",
              "      <td>D</td>\n",
              "      <td>T</td>\n",
              "      <td>L</td>\n",
              "      <td>F</td>\n",
              "      <td>A</td>\n",
              "      <td>A</td>\n",
              "      <td>E</td>\n",
              "      <td>E</td>\n",
              "      <td>I</td>\n",
              "      <td>K</td>\n",
              "      <td>K</td>\n",
              "      <td>BI</td>\n",
              "      <td>CQ</td>\n",
              "      <td>A</td>\n",
              "      <td>AV</td>\n",
              "      <td>BM</td>\n",
              "      <td>A</td>\n",
              "      <td>O</td>\n",
              "      <td>DP</td>\n",
              "      <td>0.330514</td>\n",
              "      <td>0.737068</td>\n",
              "      <td>0.592681</td>\n",
              "      <td>0.614134</td>\n",
              "      <td>0.885834</td>\n",
              "      <td>0.438917</td>\n",
              "      <td>0.436585</td>\n",
              "      <td>0.60087</td>\n",
              "      <td>0.35127</td>\n",
              "      <td>0.43919</td>\n",
              "      <td>0.338312</td>\n",
              "      <td>0.366307</td>\n",
              "      <td>0.611431</td>\n",
              "      <td>0.304496</td>\n",
              "      <td>1283.60</td>\n",
              "    </tr>\n",
              "    <tr>\n",
              "      <th>2</th>\n",
              "      <td>5</td>\n",
              "      <td>A</td>\n",
              "      <td>B</td>\n",
              "      <td>A</td>\n",
              "      <td>A</td>\n",
              "      <td>B</td>\n",
              "      <td>A</td>\n",
              "      <td>A</td>\n",
              "      <td>A</td>\n",
              "      <td>B</td>\n",
              "      <td>B</td>\n",
              "      <td>B</td>\n",
              "      <td>B</td>\n",
              "      <td>B</td>\n",
              "      <td>A</td>\n",
              "      <td>A</td>\n",
              "      <td>A</td>\n",
              "      <td>A</td>\n",
              "      <td>A</td>\n",
              "      <td>A</td>\n",
              "      <td>A</td>\n",
              "      <td>A</td>\n",
              "      <td>A</td>\n",
              "      <td>A</td>\n",
              "      <td>A</td>\n",
              "      <td>A</td>\n",
              "      <td>A</td>\n",
              "      <td>A</td>\n",
              "      <td>A</td>\n",
              "      <td>A</td>\n",
              "      <td>A</td>\n",
              "      <td>A</td>\n",
              "      <td>A</td>\n",
              "      <td>A</td>\n",
              "      <td>A</td>\n",
              "      <td>A</td>\n",
              "      <td>B</td>\n",
              "      <td>A</td>\n",
              "      <td>A</td>\n",
              "      <td>A</td>\n",
              "      <td>A</td>\n",
              "      <td>A</td>\n",
              "      <td>A</td>\n",
              "      <td>A</td>\n",
              "      <td>A</td>\n",
              "      <td>A</td>\n",
              "      <td>A</td>\n",
              "      <td>A</td>\n",
              "      <td>A</td>\n",
              "      <td>A</td>\n",
              "      <td>A</td>\n",
              "      <td>A</td>\n",
              "      <td>A</td>\n",
              "      <td>A</td>\n",
              "      <td>A</td>\n",
              "      <td>A</td>\n",
              "      <td>A</td>\n",
              "      <td>A</td>\n",
              "      <td>A</td>\n",
              "      <td>A</td>\n",
              "      <td>A</td>\n",
              "      <td>A</td>\n",
              "      <td>A</td>\n",
              "      <td>A</td>\n",
              "      <td>A</td>\n",
              "      <td>A</td>\n",
              "      <td>A</td>\n",
              "      <td>A</td>\n",
              "      <td>A</td>\n",
              "      <td>A</td>\n",
              "      <td>A</td>\n",
              "      <td>A</td>\n",
              "      <td>A</td>\n",
              "      <td>A</td>\n",
              "      <td>A</td>\n",
              "      <td>A</td>\n",
              "      <td>A</td>\n",
              "      <td>D</td>\n",
              "      <td>B</td>\n",
              "      <td>B</td>\n",
              "      <td>B</td>\n",
              "      <td>D</td>\n",
              "      <td>B</td>\n",
              "      <td>D</td>\n",
              "      <td>C</td>\n",
              "      <td>B</td>\n",
              "      <td>B</td>\n",
              "      <td>B</td>\n",
              "      <td>A</td>\n",
              "      <td>A</td>\n",
              "      <td>A</td>\n",
              "      <td>A</td>\n",
              "      <td>A</td>\n",
              "      <td>D</td>\n",
              "      <td>D</td>\n",
              "      <td>C</td>\n",
              "      <td>E</td>\n",
              "      <td>E</td>\n",
              "      <td>A</td>\n",
              "      <td>D</td>\n",
              "      <td>L</td>\n",
              "      <td>O</td>\n",
              "      <td>A</td>\n",
              "      <td>B</td>\n",
              "      <td>E</td>\n",
              "      <td>F</td>\n",
              "      <td>H</td>\n",
              "      <td>F</td>\n",
              "      <td>A</td>\n",
              "      <td>AB</td>\n",
              "      <td>DK</td>\n",
              "      <td>A</td>\n",
              "      <td>C</td>\n",
              "      <td>AF</td>\n",
              "      <td>A</td>\n",
              "      <td>I</td>\n",
              "      <td>GK</td>\n",
              "      <td>0.261841</td>\n",
              "      <td>0.358319</td>\n",
              "      <td>0.484196</td>\n",
              "      <td>0.236924</td>\n",
              "      <td>0.397069</td>\n",
              "      <td>0.289648</td>\n",
              "      <td>0.315545</td>\n",
              "      <td>0.27320</td>\n",
              "      <td>0.26076</td>\n",
              "      <td>0.32446</td>\n",
              "      <td>0.381398</td>\n",
              "      <td>0.373424</td>\n",
              "      <td>0.195709</td>\n",
              "      <td>0.774425</td>\n",
              "      <td>3005.09</td>\n",
              "    </tr>\n",
              "    <tr>\n",
              "      <th>3</th>\n",
              "      <td>10</td>\n",
              "      <td>B</td>\n",
              "      <td>B</td>\n",
              "      <td>A</td>\n",
              "      <td>B</td>\n",
              "      <td>A</td>\n",
              "      <td>A</td>\n",
              "      <td>A</td>\n",
              "      <td>A</td>\n",
              "      <td>B</td>\n",
              "      <td>A</td>\n",
              "      <td>A</td>\n",
              "      <td>A</td>\n",
              "      <td>A</td>\n",
              "      <td>A</td>\n",
              "      <td>A</td>\n",
              "      <td>A</td>\n",
              "      <td>A</td>\n",
              "      <td>A</td>\n",
              "      <td>A</td>\n",
              "      <td>A</td>\n",
              "      <td>A</td>\n",
              "      <td>A</td>\n",
              "      <td>B</td>\n",
              "      <td>A</td>\n",
              "      <td>A</td>\n",
              "      <td>A</td>\n",
              "      <td>A</td>\n",
              "      <td>A</td>\n",
              "      <td>A</td>\n",
              "      <td>A</td>\n",
              "      <td>A</td>\n",
              "      <td>A</td>\n",
              "      <td>A</td>\n",
              "      <td>A</td>\n",
              "      <td>A</td>\n",
              "      <td>A</td>\n",
              "      <td>A</td>\n",
              "      <td>A</td>\n",
              "      <td>A</td>\n",
              "      <td>A</td>\n",
              "      <td>A</td>\n",
              "      <td>A</td>\n",
              "      <td>A</td>\n",
              "      <td>A</td>\n",
              "      <td>A</td>\n",
              "      <td>A</td>\n",
              "      <td>A</td>\n",
              "      <td>A</td>\n",
              "      <td>A</td>\n",
              "      <td>A</td>\n",
              "      <td>A</td>\n",
              "      <td>A</td>\n",
              "      <td>A</td>\n",
              "      <td>A</td>\n",
              "      <td>A</td>\n",
              "      <td>A</td>\n",
              "      <td>A</td>\n",
              "      <td>A</td>\n",
              "      <td>A</td>\n",
              "      <td>A</td>\n",
              "      <td>A</td>\n",
              "      <td>A</td>\n",
              "      <td>A</td>\n",
              "      <td>A</td>\n",
              "      <td>A</td>\n",
              "      <td>A</td>\n",
              "      <td>A</td>\n",
              "      <td>A</td>\n",
              "      <td>A</td>\n",
              "      <td>A</td>\n",
              "      <td>A</td>\n",
              "      <td>A</td>\n",
              "      <td>B</td>\n",
              "      <td>A</td>\n",
              "      <td>A</td>\n",
              "      <td>A</td>\n",
              "      <td>D</td>\n",
              "      <td>B</td>\n",
              "      <td>B</td>\n",
              "      <td>D</td>\n",
              "      <td>D</td>\n",
              "      <td>D</td>\n",
              "      <td>B</td>\n",
              "      <td>C</td>\n",
              "      <td>B</td>\n",
              "      <td>D</td>\n",
              "      <td>B</td>\n",
              "      <td>A</td>\n",
              "      <td>A</td>\n",
              "      <td>A</td>\n",
              "      <td>A</td>\n",
              "      <td>A</td>\n",
              "      <td>D</td>\n",
              "      <td>D</td>\n",
              "      <td>C</td>\n",
              "      <td>E</td>\n",
              "      <td>E</td>\n",
              "      <td>D</td>\n",
              "      <td>T</td>\n",
              "      <td>I</td>\n",
              "      <td>D</td>\n",
              "      <td>A</td>\n",
              "      <td>A</td>\n",
              "      <td>E</td>\n",
              "      <td>E</td>\n",
              "      <td>I</td>\n",
              "      <td>K</td>\n",
              "      <td>K</td>\n",
              "      <td>BI</td>\n",
              "      <td>CS</td>\n",
              "      <td>C</td>\n",
              "      <td>N</td>\n",
              "      <td>AE</td>\n",
              "      <td>A</td>\n",
              "      <td>O</td>\n",
              "      <td>DJ</td>\n",
              "      <td>0.321594</td>\n",
              "      <td>0.555782</td>\n",
              "      <td>0.527991</td>\n",
              "      <td>0.373816</td>\n",
              "      <td>0.422268</td>\n",
              "      <td>0.440945</td>\n",
              "      <td>0.391128</td>\n",
              "      <td>0.31796</td>\n",
              "      <td>0.32128</td>\n",
              "      <td>0.44467</td>\n",
              "      <td>0.327915</td>\n",
              "      <td>0.321570</td>\n",
              "      <td>0.605077</td>\n",
              "      <td>0.602642</td>\n",
              "      <td>939.85</td>\n",
              "    </tr>\n",
              "    <tr>\n",
              "      <th>4</th>\n",
              "      <td>11</td>\n",
              "      <td>A</td>\n",
              "      <td>B</td>\n",
              "      <td>A</td>\n",
              "      <td>B</td>\n",
              "      <td>A</td>\n",
              "      <td>A</td>\n",
              "      <td>A</td>\n",
              "      <td>A</td>\n",
              "      <td>B</td>\n",
              "      <td>B</td>\n",
              "      <td>A</td>\n",
              "      <td>B</td>\n",
              "      <td>A</td>\n",
              "      <td>A</td>\n",
              "      <td>A</td>\n",
              "      <td>A</td>\n",
              "      <td>A</td>\n",
              "      <td>A</td>\n",
              "      <td>A</td>\n",
              "      <td>A</td>\n",
              "      <td>A</td>\n",
              "      <td>A</td>\n",
              "      <td>B</td>\n",
              "      <td>A</td>\n",
              "      <td>A</td>\n",
              "      <td>A</td>\n",
              "      <td>A</td>\n",
              "      <td>A</td>\n",
              "      <td>A</td>\n",
              "      <td>A</td>\n",
              "      <td>A</td>\n",
              "      <td>A</td>\n",
              "      <td>A</td>\n",
              "      <td>A</td>\n",
              "      <td>A</td>\n",
              "      <td>A</td>\n",
              "      <td>A</td>\n",
              "      <td>A</td>\n",
              "      <td>A</td>\n",
              "      <td>A</td>\n",
              "      <td>A</td>\n",
              "      <td>A</td>\n",
              "      <td>A</td>\n",
              "      <td>A</td>\n",
              "      <td>A</td>\n",
              "      <td>A</td>\n",
              "      <td>A</td>\n",
              "      <td>A</td>\n",
              "      <td>A</td>\n",
              "      <td>A</td>\n",
              "      <td>A</td>\n",
              "      <td>A</td>\n",
              "      <td>A</td>\n",
              "      <td>A</td>\n",
              "      <td>A</td>\n",
              "      <td>A</td>\n",
              "      <td>A</td>\n",
              "      <td>A</td>\n",
              "      <td>A</td>\n",
              "      <td>A</td>\n",
              "      <td>A</td>\n",
              "      <td>A</td>\n",
              "      <td>A</td>\n",
              "      <td>A</td>\n",
              "      <td>A</td>\n",
              "      <td>A</td>\n",
              "      <td>A</td>\n",
              "      <td>A</td>\n",
              "      <td>A</td>\n",
              "      <td>A</td>\n",
              "      <td>A</td>\n",
              "      <td>B</td>\n",
              "      <td>A</td>\n",
              "      <td>A</td>\n",
              "      <td>A</td>\n",
              "      <td>A</td>\n",
              "      <td>D</td>\n",
              "      <td>B</td>\n",
              "      <td>D</td>\n",
              "      <td>B</td>\n",
              "      <td>D</td>\n",
              "      <td>B</td>\n",
              "      <td>B</td>\n",
              "      <td>C</td>\n",
              "      <td>B</td>\n",
              "      <td>B</td>\n",
              "      <td>C</td>\n",
              "      <td>A</td>\n",
              "      <td>A</td>\n",
              "      <td>A</td>\n",
              "      <td>B</td>\n",
              "      <td>H</td>\n",
              "      <td>D</td>\n",
              "      <td>B</td>\n",
              "      <td>D</td>\n",
              "      <td>E</td>\n",
              "      <td>E</td>\n",
              "      <td>A</td>\n",
              "      <td>P</td>\n",
              "      <td>F</td>\n",
              "      <td>J</td>\n",
              "      <td>A</td>\n",
              "      <td>A</td>\n",
              "      <td>D</td>\n",
              "      <td>E</td>\n",
              "      <td>K</td>\n",
              "      <td>G</td>\n",
              "      <td>B</td>\n",
              "      <td>H</td>\n",
              "      <td>C</td>\n",
              "      <td>C</td>\n",
              "      <td>Y</td>\n",
              "      <td>BM</td>\n",
              "      <td>A</td>\n",
              "      <td>K</td>\n",
              "      <td>CK</td>\n",
              "      <td>0.273204</td>\n",
              "      <td>0.159990</td>\n",
              "      <td>0.527991</td>\n",
              "      <td>0.473202</td>\n",
              "      <td>0.704268</td>\n",
              "      <td>0.178193</td>\n",
              "      <td>0.247408</td>\n",
              "      <td>0.24564</td>\n",
              "      <td>0.22089</td>\n",
              "      <td>0.21230</td>\n",
              "      <td>0.204687</td>\n",
              "      <td>0.202213</td>\n",
              "      <td>0.246011</td>\n",
              "      <td>0.432606</td>\n",
              "      <td>2763.85</td>\n",
              "    </tr>\n",
              "  </tbody>\n",
              "</table>\n",
              "</div>\n",
              "      <button class=\"colab-df-convert\" onclick=\"convertToInteractive('df-351699e6-e977-4e99-9b91-1c33d69d968a')\"\n",
              "              title=\"Convert this dataframe to an interactive table.\"\n",
              "              style=\"display:none;\">\n",
              "        \n",
              "  <svg xmlns=\"http://www.w3.org/2000/svg\" height=\"24px\"viewBox=\"0 0 24 24\"\n",
              "       width=\"24px\">\n",
              "    <path d=\"M0 0h24v24H0V0z\" fill=\"none\"/>\n",
              "    <path d=\"M18.56 5.44l.94 2.06.94-2.06 2.06-.94-2.06-.94-.94-2.06-.94 2.06-2.06.94zm-11 1L8.5 8.5l.94-2.06 2.06-.94-2.06-.94L8.5 2.5l-.94 2.06-2.06.94zm10 10l.94 2.06.94-2.06 2.06-.94-2.06-.94-.94-2.06-.94 2.06-2.06.94z\"/><path d=\"M17.41 7.96l-1.37-1.37c-.4-.4-.92-.59-1.43-.59-.52 0-1.04.2-1.43.59L10.3 9.45l-7.72 7.72c-.78.78-.78 2.05 0 2.83L4 21.41c.39.39.9.59 1.41.59.51 0 1.02-.2 1.41-.59l7.78-7.78 2.81-2.81c.8-.78.8-2.07 0-2.86zM5.41 20L4 18.59l7.72-7.72 1.47 1.35L5.41 20z\"/>\n",
              "  </svg>\n",
              "      </button>\n",
              "      \n",
              "  <style>\n",
              "    .colab-df-container {\n",
              "      display:flex;\n",
              "      flex-wrap:wrap;\n",
              "      gap: 12px;\n",
              "    }\n",
              "\n",
              "    .colab-df-convert {\n",
              "      background-color: #E8F0FE;\n",
              "      border: none;\n",
              "      border-radius: 50%;\n",
              "      cursor: pointer;\n",
              "      display: none;\n",
              "      fill: #1967D2;\n",
              "      height: 32px;\n",
              "      padding: 0 0 0 0;\n",
              "      width: 32px;\n",
              "    }\n",
              "\n",
              "    .colab-df-convert:hover {\n",
              "      background-color: #E2EBFA;\n",
              "      box-shadow: 0px 1px 2px rgba(60, 64, 67, 0.3), 0px 1px 3px 1px rgba(60, 64, 67, 0.15);\n",
              "      fill: #174EA6;\n",
              "    }\n",
              "\n",
              "    [theme=dark] .colab-df-convert {\n",
              "      background-color: #3B4455;\n",
              "      fill: #D2E3FC;\n",
              "    }\n",
              "\n",
              "    [theme=dark] .colab-df-convert:hover {\n",
              "      background-color: #434B5C;\n",
              "      box-shadow: 0px 1px 3px 1px rgba(0, 0, 0, 0.15);\n",
              "      filter: drop-shadow(0px 1px 2px rgba(0, 0, 0, 0.3));\n",
              "      fill: #FFFFFF;\n",
              "    }\n",
              "  </style>\n",
              "\n",
              "      <script>\n",
              "        const buttonEl =\n",
              "          document.querySelector('#df-351699e6-e977-4e99-9b91-1c33d69d968a button.colab-df-convert');\n",
              "        buttonEl.style.display =\n",
              "          google.colab.kernel.accessAllowed ? 'block' : 'none';\n",
              "\n",
              "        async function convertToInteractive(key) {\n",
              "          const element = document.querySelector('#df-351699e6-e977-4e99-9b91-1c33d69d968a');\n",
              "          const dataTable =\n",
              "            await google.colab.kernel.invokeFunction('convertToInteractive',\n",
              "                                                     [key], {});\n",
              "          if (!dataTable) return;\n",
              "\n",
              "          const docLinkHtml = 'Like what you see? Visit the ' +\n",
              "            '<a target=\"_blank\" href=https://colab.research.google.com/notebooks/data_table.ipynb>data table notebook</a>'\n",
              "            + ' to learn more about interactive tables.';\n",
              "          element.innerHTML = '';\n",
              "          dataTable['output_type'] = 'display_data';\n",
              "          await google.colab.output.renderOutput(dataTable, element);\n",
              "          const docLink = document.createElement('div');\n",
              "          docLink.innerHTML = docLinkHtml;\n",
              "          element.appendChild(docLink);\n",
              "        }\n",
              "      </script>\n",
              "    </div>\n",
              "  </div>\n",
              "  "
            ]
          },
          "metadata": {},
          "execution_count": 4
        }
      ],
      "source": [
        "train_df.head()"
      ]
    },
    {
      "cell_type": "code",
      "execution_count": 5,
      "id": "d5c224be",
      "metadata": {
        "colab": {
          "base_uri": "https://localhost:8080/"
        },
        "id": "d5c224be",
        "outputId": "bcd18a23-3b7a-4481-b7c6-c4afde9b374e"
      },
      "outputs": [
        {
          "output_type": "execute_result",
          "data": {
            "text/plain": [
              "(188318, 132)"
            ]
          },
          "metadata": {},
          "execution_count": 5
        }
      ],
      "source": [
        "train_df.shape"
      ]
    },
    {
      "cell_type": "code",
      "execution_count": 6,
      "id": "368f8ef2",
      "metadata": {
        "id": "368f8ef2"
      },
      "outputs": [],
      "source": [
        "column_datatypes = train_df.dtypes\n",
        "categorical_columns = list(column_datatypes[column_datatypes==\"object\"].index.values)\n",
        "continuous_columns = list(column_datatypes[column_datatypes==\"float64\"].index.values)\n",
        "continuous_columns.remove('loss')"
      ]
    },
    {
      "cell_type": "code",
      "source": [
        "continuous_columns"
      ],
      "metadata": {
        "colab": {
          "base_uri": "https://localhost:8080/"
        },
        "id": "HqaoX63KTMN6",
        "outputId": "cf62440f-3714-4c60-dbe5-eb6c31924712"
      },
      "id": "HqaoX63KTMN6",
      "execution_count": 7,
      "outputs": [
        {
          "output_type": "execute_result",
          "data": {
            "text/plain": [
              "['cont1',\n",
              " 'cont2',\n",
              " 'cont3',\n",
              " 'cont4',\n",
              " 'cont5',\n",
              " 'cont6',\n",
              " 'cont7',\n",
              " 'cont8',\n",
              " 'cont9',\n",
              " 'cont10',\n",
              " 'cont11',\n",
              " 'cont12',\n",
              " 'cont13',\n",
              " 'cont14']"
            ]
          },
          "metadata": {},
          "execution_count": 7
        }
      ]
    },
    {
      "cell_type": "code",
      "execution_count": 8,
      "id": "9f7a195d",
      "metadata": {
        "id": "9f7a195d"
      },
      "outputs": [],
      "source": [
        "def category_distribution(train_data,categorical_columns):\n",
        "    categorical_column_distribution = list()\n",
        "    for cat_column in categorical_columns:\n",
        "        categorical_column_distribution.append(train_data[cat_column].value_counts())\n",
        "    return(categorical_column_distribution)"
      ]
    },
    {
      "cell_type": "code",
      "execution_count": 9,
      "id": "d65b46f5",
      "metadata": {
        "id": "d65b46f5"
      },
      "outputs": [],
      "source": [
        "categorical_column_distribution = category_distribution(train_df,categorical_columns)"
      ]
    },
    {
      "cell_type": "code",
      "execution_count": 10,
      "id": "f1c410a2",
      "metadata": {
        "id": "f1c410a2"
      },
      "outputs": [],
      "source": [
        "length_categorical_columns = list(map(lambda x:len(x),categorical_column_distribution))"
      ]
    },
    {
      "cell_type": "code",
      "execution_count": 11,
      "id": "22334cfd",
      "metadata": {
        "id": "22334cfd"
      },
      "outputs": [],
      "source": [
        "#count the number of columns having the same number of unique values\n",
        "distribution_dict = dict()\n",
        "for val in length_categorical_columns:\n",
        "    if val in distribution_dict.keys():\n",
        "        count = distribution_dict[val]\n",
        "        distribution_dict[val] = count+1\n",
        "    else:\n",
        "        distribution_dict[val]=1"
      ]
    },
    {
      "cell_type": "code",
      "execution_count": 12,
      "id": "ce7304ba",
      "metadata": {
        "colab": {
          "base_uri": "https://localhost:8080/"
        },
        "id": "ce7304ba",
        "outputId": "5223a239-5121-43cc-dda7-3b545f59754b"
      },
      "outputs": [
        {
          "output_type": "execute_result",
          "data": {
            "text/plain": [
              "{2: 72,\n",
              " 3: 4,\n",
              " 4: 12,\n",
              " 8: 3,\n",
              " 7: 4,\n",
              " 5: 3,\n",
              " 16: 2,\n",
              " 15: 1,\n",
              " 19: 2,\n",
              " 9: 1,\n",
              " 13: 1,\n",
              " 17: 2,\n",
              " 20: 2,\n",
              " 11: 1,\n",
              " 84: 1,\n",
              " 131: 1,\n",
              " 51: 1,\n",
              " 61: 1,\n",
              " 23: 1,\n",
              " 326: 1}"
            ]
          },
          "metadata": {},
          "execution_count": 12
        }
      ],
      "source": [
        "distribution_dict"
      ]
    },
    {
      "cell_type": "code",
      "execution_count": 15,
      "id": "65c6c464",
      "metadata": {
        "colab": {
          "base_uri": "https://localhost:8080/",
          "height": 305
        },
        "id": "65c6c464",
        "outputId": "26e78da8-64a9-4ee5-d81b-679389446781"
      },
      "outputs": [
        {
          "output_type": "display_data",
          "data": {
            "text/plain": [
              "<Figure size 432x288 with 1 Axes>"
            ],
            "image/png": "[encoded data removed]"
          },
          "metadata": {
            "needs_background": "light"
          }
        }
      ],
      "source": [
        "##plot showing the count of columns having same number of unique values\n",
        "keys = distribution_dict.keys()\n",
        "values = distribution_dict.values()\n",
        "plt.bar(keys, values,width=0.8)\n",
        "plt.xlabel('Distinct Values in Categorical Variable', fontsize=15)\n",
        "plt.ylabel('Count', fontsize=15)\n",
        "plt.title('Categorical features with Same Unique Values',fontsize=20)\n",
        "plt.rcParams['figure.figsize'] = [48/2.54, 10/2.54]\n",
        "plt.show()"
      ]
    },
    {
      "cell_type": "code",
      "execution_count": 16,
      "id": "2fa9dce2",
      "metadata": {
        "colab": {
          "base_uri": "https://localhost:8080/",
          "height": 364
        },
        "id": "2fa9dce2",
        "outputId": "c0810adf-2b49-44ee-b832-34082f18f078"
      },
      "outputs": [
        {
          "output_type": "execute_result",
          "data": {
            "text/plain": [
              "               cont1          cont2          cont3          cont4  \\\n",
              "count  188318.000000  188318.000000  188318.000000  188318.000000   \n",
              "mean        0.493861       0.507188       0.498918       0.491812   \n",
              "std         0.187640       0.207202       0.202105       0.211292   \n",
              "min         0.000016       0.001149       0.002634       0.176921   \n",
              "25%         0.346090       0.358319       0.336963       0.327354   \n",
              "50%         0.475784       0.555782       0.527991       0.452887   \n",
              "75%         0.623912       0.681761       0.634224       0.652072   \n",
              "max         0.984975       0.862654       0.944251       0.954297   \n",
              "\n",
              "               cont5          cont6          cont7          cont8  \\\n",
              "count  188318.000000  188318.000000  188318.000000  188318.000000   \n",
              "mean        0.487428       0.490945       0.484970       0.486437   \n",
              "std         0.209027       0.205273       0.178450       0.199370   \n",
              "min         0.281143       0.012683       0.069503       0.236880   \n",
              "25%         0.281143       0.336105       0.350175       0.312800   \n",
              "50%         0.422268       0.440945       0.438285       0.441060   \n",
              "75%         0.643315       0.655021       0.591045       0.623580   \n",
              "max         0.983674       0.997162       1.000000       0.980200   \n",
              "\n",
              "               cont9         cont10         cont11         cont12  \\\n",
              "count  188318.000000  188318.000000  188318.000000  188318.000000   \n",
              "mean        0.485506       0.498066       0.493511       0.493150   \n",
              "std         0.181660       0.185877       0.209737       0.209427   \n",
              "min         0.000080       0.000000       0.035321       0.036232   \n",
              "25%         0.358970       0.364580       0.310961       0.311661   \n",
              "50%         0.441450       0.461190       0.457203       0.462286   \n",
              "75%         0.566820       0.614590       0.678924       0.675759   \n",
              "max         0.995400       0.994980       0.998742       0.998484   \n",
              "\n",
              "              cont13         cont14  \n",
              "count  188318.000000  188318.000000  \n",
              "mean        0.493138       0.495717  \n",
              "std         0.212777       0.222488  \n",
              "min         0.000228       0.179722  \n",
              "25%         0.315758       0.294610  \n",
              "50%         0.363547       0.407403  \n",
              "75%         0.689974       0.724623  \n",
              "max         0.988494       0.844848  "
            ],
            "text/html": [
              "\n",
              "  <div id=\"df-3c626e0f-025d-4233-bd18-9c7e01925f19\">\n",
              "    <div class=\"colab-df-container\">\n",
              "      <div>\n",
              "<style scoped>\n",
              "    .dataframe tbody tr th:only-of-type {\n",
              "        vertical-align: middle;\n",
              "    }\n",
              "\n",
              "    .dataframe tbody tr th {\n",
              "        vertical-align: top;\n",
              "    }\n",
              "\n",
              "    .dataframe thead th {\n",
              "        text-align: right;\n",
              "    }\n",
              "</style>\n",
              "<table border=\"1\" class=\"dataframe\">\n",
              "  <thead>\n",
              "    <tr style=\"text-align: right;\">\n",
              "      <th></th>\n",
              "      <th>cont1</th>\n",
              "      <th>cont2</th>\n",
              "      <th>cont3</th>\n",
              "      <th>cont4</th>\n",
              "      <th>cont5</th>\n",
              "      <th>cont6</th>\n",
              "      <th>cont7</th>\n",
              "      <th>cont8</th>\n",
              "      <th>cont9</th>\n",
              "      <th>cont10</th>\n",
              "      <th>cont11</th>\n",
              "      <th>cont12</th>\n",
              "      <th>cont13</th>\n",
              "      <th>cont14</th>\n",
              "    </tr>\n",
              "  </thead>\n",
              "  <tbody>\n",
              "    <tr>\n",
              "      <th>count</th>\n",
              "      <td>188318.000000</td>\n",
              "      <td>188318.000000</td>\n",
              "      <td>188318.000000</td>\n",
              "      <td>188318.000000</td>\n",
              "      <td>188318.000000</td>\n",
              "      <td>188318.000000</td>\n",
              "      <td>188318.000000</td>\n",
              "      <td>188318.000000</td>\n",
              "      <td>188318.000000</td>\n",
              "      <td>188318.000000</td>\n",
              "      <td>188318.000000</td>\n",
              "      <td>188318.000000</td>\n",
              "      <td>188318.000000</td>\n",
              "      <td>188318.000000</td>\n",
              "    </tr>\n",
              "    <tr>\n",
              "      <th>mean</th>\n",
              "      <td>0.493861</td>\n",
              "      <td>0.507188</td>\n",
              "      <td>0.498918</td>\n",
              "      <td>0.491812</td>\n",
              "      <td>0.487428</td>\n",
              "      <td>0.490945</td>\n",
              "      <td>0.484970</td>\n",
              "      <td>0.486437</td>\n",
              "      <td>0.485506</td>\n",
              "      <td>0.498066</td>\n",
              "      <td>0.493511</td>\n",
              "      <td>0.493150</td>\n",
              "      <td>0.493138</td>\n",
              "      <td>0.495717</td>\n",
              "    </tr>\n",
              "    <tr>\n",
              "      <th>std</th>\n",
              "      <td>0.187640</td>\n",
              "      <td>0.207202</td>\n",
              "      <td>0.202105</td>\n",
              "      <td>0.211292</td>\n",
              "      <td>0.209027</td>\n",
              "      <td>0.205273</td>\n",
              "      <td>0.178450</td>\n",
              "      <td>0.199370</td>\n",
              "      <td>0.181660</td>\n",
              "      <td>0.185877</td>\n",
              "      <td>0.209737</td>\n",
              "      <td>0.209427</td>\n",
              "      <td>0.212777</td>\n",
              "      <td>0.222488</td>\n",
              "    </tr>\n",
              "    <tr>\n",
              "      <th>min</th>\n",
              "      <td>0.000016</td>\n",
              "      <td>0.001149</td>\n",
              "      <td>0.002634</td>\n",
              "      <td>0.176921</td>\n",
              "      <td>0.281143</td>\n",
              "      <td>0.012683</td>\n",
              "      <td>0.069503</td>\n",
              "      <td>0.236880</td>\n",
              "      <td>0.000080</td>\n",
              "      <td>0.000000</td>\n",
              "      <td>0.035321</td>\n",
              "      <td>0.036232</td>\n",
              "      <td>0.000228</td>\n",
              "      <td>0.179722</td>\n",
              "    </tr>\n",
              "    <tr>\n",
              "      <th>25%</th>\n",
              "      <td>0.346090</td>\n",
              "      <td>0.358319</td>\n",
              "      <td>0.336963</td>\n",
              "      <td>0.327354</td>\n",
              "      <td>0.281143</td>\n",
              "      <td>0.336105</td>\n",
              "      <td>0.350175</td>\n",
              "      <td>0.312800</td>\n",
              "      <td>0.358970</td>\n",
              "      <td>0.364580</td>\n",
              "      <td>0.310961</td>\n",
              "      <td>0.311661</td>\n",
              "      <td>0.315758</td>\n",
              "      <td>0.294610</td>\n",
              "    </tr>\n",
              "    <tr>\n",
              "      <th>50%</th>\n",
              "      <td>0.475784</td>\n",
              "      <td>0.555782</td>\n",
              "      <td>0.527991</td>\n",
              "      <td>0.452887</td>\n",
              "      <td>0.422268</td>\n",
              "      <td>0.440945</td>\n",
              "      <td>0.438285</td>\n",
              "      <td>0.441060</td>\n",
              "      <td>0.441450</td>\n",
              "      <td>0.461190</td>\n",
              "      <td>0.457203</td>\n",
              "      <td>0.462286</td>\n",
              "      <td>0.363547</td>\n",
              "      <td>0.407403</td>\n",
              "    </tr>\n",
              "    <tr>\n",
              "      <th>75%</th>\n",
              "      <td>0.623912</td>\n",
              "      <td>0.681761</td>\n",
              "      <td>0.634224</td>\n",
              "      <td>0.652072</td>\n",
              "      <td>0.643315</td>\n",
              "      <td>0.655021</td>\n",
              "      <td>0.591045</td>\n",
              "      <td>0.623580</td>\n",
              "      <td>0.566820</td>\n",
              "      <td>0.614590</td>\n",
              "      <td>0.678924</td>\n",
              "      <td>0.675759</td>\n",
              "      <td>0.689974</td>\n",
              "      <td>0.724623</td>\n",
              "    </tr>\n",
              "    <tr>\n",
              "      <th>max</th>\n",
              "      <td>0.984975</td>\n",
              "      <td>0.862654</td>\n",
              "      <td>0.944251</td>\n",
              "      <td>0.954297</td>\n",
              "      <td>0.983674</td>\n",
              "      <td>0.997162</td>\n",
              "      <td>1.000000</td>\n",
              "      <td>0.980200</td>\n",
              "      <td>0.995400</td>\n",
              "      <td>0.994980</td>\n",
              "      <td>0.998742</td>\n",
              "      <td>0.998484</td>\n",
              "      <td>0.988494</td>\n",
              "      <td>0.844848</td>\n",
              "    </tr>\n",
              "  </tbody>\n",
              "</table>\n",
              "</div>\n",
              "      <button class=\"colab-df-convert\" onclick=\"convertToInteractive('df-3c626e0f-025d-4233-bd18-9c7e01925f19')\"\n",
              "              title=\"Convert this dataframe to an interactive table.\"\n",
              "              style=\"display:none;\">\n",
              "        \n",
              "  <svg xmlns=\"http://www.w3.org/2000/svg\" height=\"24px\"viewBox=\"0 0 24 24\"\n",
              "       width=\"24px\">\n",
              "    <path d=\"M0 0h24v24H0V0z\" fill=\"none\"/>\n",
              "    <path d=\"M18.56 5.44l.94 2.06.94-2.06 2.06-.94-2.06-.94-.94-2.06-.94 2.06-2.06.94zm-11 1L8.5 8.5l.94-2.06 2.06-.94-2.06-.94L8.5 2.5l-.94 2.06-2.06.94zm10 10l.94 2.06.94-2.06 2.06-.94-2.06-.94-.94-2.06-.94 2.06-2.06.94z\"/><path d=\"M17.41 7.96l-1.37-1.37c-.4-.4-.92-.59-1.43-.59-.52 0-1.04.2-1.43.59L10.3 9.45l-7.72 7.72c-.78.78-.78 2.05 0 2.83L4 21.41c.39.39.9.59 1.41.59.51 0 1.02-.2 1.41-.59l7.78-7.78 2.81-2.81c.8-.78.8-2.07 0-2.86zM5.41 20L4 18.59l7.72-7.72 1.47 1.35L5.41 20z\"/>\n",
              "  </svg>\n",
              "      </button>\n",
              "      \n",
              "  <style>\n",
              "    .colab-df-container {\n",
              "      display:flex;\n",
              "      flex-wrap:wrap;\n",
              "      gap: 12px;\n",
              "    }\n",
              "\n",
              "    .colab-df-convert {\n",
              "      background-color: #E8F0FE;\n",
              "      border: none;\n",
              "      border-radius: 50%;\n",
              "      cursor: pointer;\n",
              "      display: none;\n",
              "      fill: #1967D2;\n",
              "      height: 32px;\n",
              "      padding: 0 0 0 0;\n",
              "      width: 32px;\n",
              "    }\n",
              "\n",
              "    .colab-df-convert:hover {\n",
              "      background-color: #E2EBFA;\n",
              "      box-shadow: 0px 1px 2px rgba(60, 64, 67, 0.3), 0px 1px 3px 1px rgba(60, 64, 67, 0.15);\n",
              "      fill: #174EA6;\n",
              "    }\n",
              "\n",
              "    [theme=dark] .colab-df-convert {\n",
              "      background-color: #3B4455;\n",
              "      fill: #D2E3FC;\n",
              "    }\n",
              "\n",
              "    [theme=dark] .colab-df-convert:hover {\n",
              "      background-color: #434B5C;\n",
              "      box-shadow: 0px 1px 3px 1px rgba(0, 0, 0, 0.15);\n",
              "      filter: drop-shadow(0px 1px 2px rgba(0, 0, 0, 0.3));\n",
              "      fill: #FFFFFF;\n",
              "    }\n",
              "  </style>\n",
              "\n",
              "      <script>\n",
              "        const buttonEl =\n",
              "          document.querySelector('#df-3c626e0f-025d-4233-bd18-9c7e01925f19 button.colab-df-convert');\n",
              "        buttonEl.style.display =\n",
              "          google.colab.kernel.accessAllowed ? 'block' : 'none';\n",
              "\n",
              "        async function convertToInteractive(key) {\n",
              "          const element = document.querySelector('#df-3c626e0f-025d-4233-bd18-9c7e01925f19');\n",
              "          const dataTable =\n",
              "            await google.colab.kernel.invokeFunction('convertToInteractive',\n",
              "                                                     [key], {});\n",
              "          if (!dataTable) return;\n",
              "\n",
              "          const docLinkHtml = 'Like what you see? Visit the ' +\n",
              "            '<a target=\"_blank\" href=https://colab.research.google.com/notebooks/data_table.ipynb>data table notebook</a>'\n",
              "            + ' to learn more about interactive tables.';\n",
              "          element.innerHTML = '';\n",
              "          dataTable['output_type'] = 'display_data';\n",
              "          await google.colab.output.renderOutput(dataTable, element);\n",
              "          const docLink = document.createElement('div');\n",
              "          docLink.innerHTML = docLinkHtml;\n",
              "          element.appendChild(docLink);\n",
              "        }\n",
              "      </script>\n",
              "    </div>\n",
              "  </div>\n",
              "  "
            ]
          },
          "metadata": {},
          "execution_count": 16
        }
      ],
      "source": [
        "train_df[continuous_columns].describe()"
      ]
    },
    {
      "cell_type": "code",
      "execution_count": 22,
      "id": "da3dff23",
      "metadata": {
        "colab": {
          "base_uri": "https://localhost:8080/"
        },
        "id": "da3dff23",
        "outputId": "b4f2575f-ac52-4a37-c42d-46f2a9afe63b"
      },
      "outputs": [
        {
          "output_type": "execute_result",
          "data": {
            "text/plain": [
              "id        0\n",
              "cat1      0\n",
              "cat2      0\n",
              "cat3      0\n",
              "cat4      0\n",
              "         ..\n",
              "cont11    0\n",
              "cont12    0\n",
              "cont13    0\n",
              "cont14    0\n",
              "loss      0\n",
              "Length: 132, dtype: int64"
            ]
          },
          "metadata": {},
          "execution_count": 22
        }
      ],
      "source": [
        "missing_values = train_df.isnull().sum()\n",
        "missing_values"
      ]
    },
    {
      "cell_type": "markdown",
      "id": "b104ac8b",
      "metadata": {
        "id": "b104ac8b"
      },
      "source": [
        "## Identifying and removing outliers"
      ]
    },
    {
      "cell_type": "code",
      "execution_count": 23,
      "id": "cf593417",
      "metadata": {
        "colab": {
          "base_uri": "https://localhost:8080/",
          "height": 263
        },
        "id": "cf593417",
        "outputId": "d114a827-220d-45ee-f3c7-f2926cb0b3f7"
      },
      "outputs": [
        {
          "output_type": "execute_result",
          "data": {
            "text/plain": [
              "<matplotlib.axes._subplots.AxesSubplot at 0x7f8cabe76d60>"
            ]
          },
          "metadata": {},
          "execution_count": 23
        },
        {
          "output_type": "display_data",
          "data": {
            "text/plain": [
              "<Figure size 1360.63x283.465 with 1 Axes>"
            ],
            "image/png": "[encoded data removed]"
          },
          "metadata": {
            "needs_background": "light"
          }
        }
      ],
      "source": [
        "sns.boxplot(data=train_df[continuous_columns])"
      ]
    },
    {
      "cell_type": "code",
      "execution_count": 24,
      "id": "5dcbec09",
      "metadata": {
        "id": "5dcbec09"
      },
      "outputs": [],
      "source": [
        "# columns with outliers\n",
        "columns_with_outlier = ['cont7','cont9','cont10']"
      ]
    },
    {
      "cell_type": "code",
      "execution_count": 25,
      "id": "061c9dca",
      "metadata": {
        "id": "061c9dca"
      },
      "outputs": [],
      "source": [
        "def outlier_treatment(train_data,Q1,Q3,IQR,columns_with_outlier,action): # outlier treatmenr\n",
        "        if action==\"median\":\n",
        "            for i in range(len(columns_with_outlier)):\n",
        "                column_name = columns_with_outlier[i]\n",
        "                meadian_outlier = np.median(train_data[column_name])\n",
        "                train_data.loc[train_data[((train_data[column_name]<(Q1[column_name]-(1.5*IQR[column_name])))|(train_data[column_name]>(Q3[column_name]+(1.5*IQR[column_name]))))].index,column_name]=meadian_outlier\n",
        "        if action==\"mean\":\n",
        "            for i in range(len(columns_with_outlier)):\n",
        "                column_name = columns_with_outlier[i]\n",
        "                mean_outlier = np.mean(train_data[column_name])\n",
        "                train_data.loc[train_data[((train_data[column_name]<(Q1[column_name]-(1.5*IQR[column_name])))|(train_data[column_name]>(Q3[column_name]+(1.5*IQR[column_name]))))].index,column_name]=mean_outlier\n",
        "        if action==\"remove\":\n",
        "            for i in range(len(columns_with_outlier)):\n",
        "                column_name = columns_with_outlier[i]\n",
        "                train_data = train_data[~((train_data[column_name]<(Q1[column_name]-(1.5*IQR[column_name])))|(train_data[column_name]>(Q3[column_name]+(1.5*IQR[column_name]))))]\n",
        "        return train_data"
      ]
    },
    {
      "cell_type": "code",
      "execution_count": 26,
      "id": "1a4d792f",
      "metadata": {
        "id": "1a4d792f"
      },
      "outputs": [],
      "source": [
        "#compute the interquartile range for all continuous columns\n",
        "Q1 = train_df[continuous_columns].quantile(0.25)\n",
        "Q3 = train_df[continuous_columns].quantile(0.75)\n",
        "IQR = (Q3-Q1)\n",
        "train_df = outlier_treatment(train_df,Q1,Q3,IQR,columns_with_outlier,\"median\")"
      ]
    },
    {
      "cell_type": "code",
      "execution_count": 27,
      "id": "62388152",
      "metadata": {
        "colab": {
          "base_uri": "https://localhost:8080/",
          "height": 263
        },
        "id": "62388152",
        "outputId": "5deb4d45-29f5-4ab1-bcf3-3944b0b355ca"
      },
      "outputs": [
        {
          "output_type": "execute_result",
          "data": {
            "text/plain": [
              "<matplotlib.axes._subplots.AxesSubplot at 0x7f8caa957d00>"
            ]
          },
          "metadata": {},
          "execution_count": 27
        },
        {
          "output_type": "display_data",
          "data": {
            "text/plain": [
              "<Figure size 1360.63x283.465 with 1 Axes>"
            ],
            "image/png": "[encoded data removed]"
          },
          "metadata": {
            "needs_background": "light"
          }
        }
      ],
      "source": [
        "sns.boxplot(data=train_df[continuous_columns])"
      ]
    },
    {
      "cell_type": "code",
      "execution_count": 27,
      "id": "bfa1bd91",
      "metadata": {
        "id": "bfa1bd91"
      },
      "outputs": [],
      "source": []
    },
    {
      "cell_type": "code",
      "execution_count": 28,
      "id": "1785352f",
      "metadata": {
        "id": "1785352f"
      },
      "outputs": [],
      "source": [
        "#Function for feature selection of numeric variables\n",
        "#Remove variables with constant variance\n",
        "#Remove variables with Quasi-Constant variance with a fixed threshold\n",
        "#Remove correlated variables\n",
        "\n",
        "def feature_selection_numerical_variables(train_data,qthreshold,corr_threshold,exclude_numerical_cols_list):\n",
        "    num_colums = ['int16', 'int32', 'int64', 'float16', 'float32', 'float64']\n",
        "    numerical_columns = list(train_data.select_dtypes(include=num_colums).columns)\n",
        "    numerical_columns = [column for column in numerical_columns if column not in exclude_numerical_cols_list]\n",
        "    \n",
        "    #remove variables with constant variance\n",
        "    constant_filter = VarianceThreshold(threshold=0)\n",
        "    constant_filter.fit(train_data[numerical_columns])\n",
        "    constant_columns = [column for column in train_data[numerical_columns].columns \n",
        "                    if column not in train_data[numerical_columns].columns[constant_filter.get_support()]]\n",
        "    if len(constant_columns)>0:\n",
        "        train_data.drop(labels=constant_columns, axis=1, inplace=True)\n",
        "\n",
        "    #remove deleted columns from dataframe\n",
        "    numerical_columns = [column for column in numerical_columns if column not in constant_columns]\n",
        "        \n",
        "    #remove variables with qconstant variance\n",
        "    #Remove quasi-constant variables\n",
        "    qconstant_filter = VarianceThreshold(threshold=qthreshold)\n",
        "    qconstant_filter.fit(train_data[numerical_columns])\n",
        "    qconstant_columns = [column for column in train_data[numerical_columns].columns \n",
        "                         if column not in train_data[numerical_columns].columns[constant_filter.get_support()]]\n",
        "    if len(qconstant_columns)>0:\n",
        "        train_data.drop(labels=qconstant_columns, axis=1, inplace=True)\n",
        "    \n",
        "    #remove deleted columns from dataframe\n",
        "    numerical_columns = [column for column in numerical_columns if column not in qconstant_columns]\n",
        "    \n",
        "    #remove correlated variables\n",
        "    correlated_features = set()\n",
        "    correlation_matrix = train_data[numerical_columns].corr()\n",
        "    ax = sns.heatmap(\n",
        "    correlation_matrix, \n",
        "    vmin=-1, vmax=1, center=0,\n",
        "    cmap=sns.diverging_palette(20, 220, n=200),\n",
        "    square=True)\n",
        "    ax.set_xticklabels(\n",
        "        ax.get_xticklabels(),\n",
        "        rotation=45,\n",
        "        horizontalalignment='right');\n",
        "    \n",
        "\n",
        "    \n",
        "    for i in range(len(correlation_matrix.columns)):\n",
        "        for j in range(i):\n",
        "            if abs(correlation_matrix.iloc[i, j]) > corr_threshold:\n",
        "                colname = correlation_matrix.columns[i]\n",
        "                colcompared = correlation_matrix.columns[j]\n",
        "                #check if the column compared against is not in the columns excluded list\n",
        "                if colcompared not in correlated_features:\n",
        "                    correlated_features.add(colname)\n",
        "    train_data.drop(labels=correlated_features, axis=1, inplace=True)\n",
        "    \n",
        "    return train_data,constant_columns,qconstant_columns,correlated_features\n",
        "    "
      ]
    },
    {
      "cell_type": "code",
      "execution_count": 29,
      "id": "7cf80369",
      "metadata": {
        "colab": {
          "base_uri": "https://localhost:8080/",
          "height": 287
        },
        "id": "7cf80369",
        "outputId": "ab263534-c1a1-425b-a282-9b4153581106"
      },
      "outputs": [
        {
          "output_type": "display_data",
          "data": {
            "text/plain": [
              "<Figure size 1360.63x283.465 with 2 Axes>"
            ],
            "image/png": "[encoded data removed]"
          },
          "metadata": {
            "needs_background": "light"
          }
        }
      ],
      "source": [
        "train_data,constant_columns,qconstant_columns,correlated_features =feature_selection_numerical_variables(train_df,0.01,0.75,['loss','id'],)"
      ]
    },
    {
      "cell_type": "code",
      "execution_count": 30,
      "id": "1c86d32c",
      "metadata": {
        "colab": {
          "base_uri": "https://localhost:8080/"
        },
        "id": "1c86d32c",
        "outputId": "5365cb2b-f6a9-48ca-af45-eed5ec5fdd5a"
      },
      "outputs": [
        {
          "output_type": "execute_result",
          "data": {
            "text/plain": [
              "{'cont10', 'cont12', 'cont6'}"
            ]
          },
          "metadata": {},
          "execution_count": 30
        }
      ],
      "source": [
        "correlated_features"
      ]
    },
    {
      "cell_type": "markdown",
      "id": "d0d598ec",
      "metadata": {
        "id": "d0d598ec"
      },
      "source": [
        "## Handling correlation between categorical variables"
      ]
    },
    {
      "cell_type": "code",
      "execution_count": 32,
      "id": "b3edc8e5",
      "metadata": {
        "id": "b3edc8e5"
      },
      "outputs": [],
      "source": [
        "for cf1 in categorical_columns:\n",
        "    le = LabelEncoder()\n",
        "    le.fit(train_data[cf1].unique())\n",
        "    filename = cf1+\".sav\"\n",
        "    pickle.dump(le, open(filename, 'wb'))\n",
        "    train_data[cf1] = le.transform(train_data[cf1])"
      ]
    },
    {
      "cell_type": "code",
      "execution_count": 33,
      "id": "1c4209d7",
      "metadata": {
        "id": "1c4209d7"
      },
      "outputs": [],
      "source": [
        "# calculate the unique values with a categorical columns\n",
        "df = pd.DataFrame(columns=[\"Column_Name\",\"Count\"])\n",
        "for cat in categorical_columns:\n",
        "    unique_value_count = len(train_data[cat].unique())\n",
        "    df = df.append({'Column_Name': cat, \"Count\":int(unique_value_count)}, ignore_index=True)\n",
        "columns_unique_value = np.array(df.Count.value_counts().index)"
      ]
    },
    {
      "cell_type": "code",
      "execution_count": 34,
      "id": "9d204eb2",
      "metadata": {
        "id": "9d204eb2"
      },
      "outputs": [],
      "source": [
        "#identify the dependent/correlated categorical variables and drop them\n",
        "columns_to_drop_cat = set()\n",
        "correlated_columns = dict()\n",
        "for unique_value_count in columns_unique_value:\n",
        "    if unique_value_count>1:\n",
        "        categorical_columns = df.loc[df.Count==unique_value_count,'Column_Name']\n",
        "        categorical_columns = categorical_columns.reset_index(drop=True)\n",
        "        columns_length=len(categorical_columns)\n",
        "        for col in range(columns_length-1):\n",
        "            column_to_compare = categorical_columns[col]\n",
        "            columns_compare_against = categorical_columns[(col+1):columns_length]\n",
        "            chi_scores = chi2(train_data[columns_compare_against],train_data[column_to_compare])\n",
        "            if column_to_compare not in columns_to_drop_cat:\n",
        "                columns_to_be_dropped = [i for i in range(len(columns_compare_against)) if chi_scores[1][i]<=0.05]\n",
        "                columns_to_drop_array = np.array(columns_compare_against)[columns_to_be_dropped]\n",
        "                correlated_columns[column_to_compare]=columns_to_drop_array\n",
        "                columns_to_drop_cat.update(columns_to_drop_array)"
      ]
    },
    {
      "cell_type": "code",
      "execution_count": 35,
      "id": "d3dcb05a",
      "metadata": {
        "id": "d3dcb05a"
      },
      "outputs": [],
      "source": [
        "train_data = train_data.drop(columns_to_drop_cat,axis=1)"
      ]
    },
    {
      "cell_type": "code",
      "execution_count": 36,
      "id": "cc1ff168",
      "metadata": {
        "id": "cc1ff168"
      },
      "outputs": [],
      "source": [
        "correlated_features = list(correlated_features)\n",
        "columns_to_drop_cat = list(columns_to_drop_cat)\n",
        "columns_to_drop_cat.extend(correlated_features)\n",
        "columns_to_drop = columns_to_drop_cat.copy()\n",
        "\n",
        "\n",
        "columns_to_drop_df=pd.DataFrame(columns_to_drop,columns=['colnames'])"
      ]
    },
    {
      "cell_type": "markdown",
      "id": "331e558f",
      "metadata": {
        "id": "331e558f"
      },
      "source": [
        "## visualization of output variable"
      ]
    },
    {
      "cell_type": "code",
      "execution_count": 37,
      "id": "79f466d5",
      "metadata": {
        "colab": {
          "base_uri": "https://localhost:8080/",
          "height": 268
        },
        "id": "79f466d5",
        "outputId": "db661a4d-b465-4684-b3f2-fd70d66ad8a0"
      },
      "outputs": [
        {
          "output_type": "execute_result",
          "data": {
            "text/plain": [
              "<matplotlib.axes._subplots.AxesSubplot at 0x7f8ca7d7a730>"
            ]
          },
          "metadata": {},
          "execution_count": 37
        },
        {
          "output_type": "display_data",
          "data": {
            "text/plain": [
              "<Figure size 1360.63x283.465 with 1 Axes>"
            ],
            "image/png": "[encoded data removed]"
          },
          "metadata": {
            "needs_background": "light"
          }
        }
      ],
      "source": [
        "sns.distplot(train_data['loss'], hist=True, kde=True, \n",
        "             bins=int(180/5), color = 'darkblue', \n",
        "             hist_kws={'edgecolor':'black'},\n",
        "             kde_kws={'linewidth': 4})\n"
      ]
    },
    {
      "cell_type": "code",
      "execution_count": 38,
      "id": "85eaaa4d",
      "metadata": {
        "id": "85eaaa4d"
      },
      "outputs": [],
      "source": [
        "train_data['loss'] = np.log(train_data['loss'])"
      ]
    },
    {
      "cell_type": "code",
      "execution_count": 39,
      "id": "af8fcab3",
      "metadata": {
        "colab": {
          "base_uri": "https://localhost:8080/",
          "height": 273
        },
        "id": "af8fcab3",
        "outputId": "3badb729-50e7-4069-f608-7426fc13aecf"
      },
      "outputs": [
        {
          "output_type": "execute_result",
          "data": {
            "text/plain": [
              "<matplotlib.axes._subplots.AxesSubplot at 0x7f8ca7cb9d60>"
            ]
          },
          "metadata": {},
          "execution_count": 39
        },
        {
          "output_type": "display_data",
          "data": {
            "text/plain": [
              "<Figure size 1360.63x283.465 with 1 Axes>"
            ],
            "image/png": "[encoded data removed]"
          },
          "metadata": {
            "needs_background": "light"
          }
        }
      ],
      "source": [
        "sns.distplot(train_data['loss'], hist=True, kde=True, \n",
        "             bins=int(180/5), color = 'darkblue', \n",
        "             hist_kws={'edgecolor':'black'},\n",
        "             kde_kws={'linewidth': 4})\n"
      ]
    },
    {
      "cell_type": "markdown",
      "id": "ed53552a",
      "metadata": {
        "id": "ed53552a"
      },
      "source": [
        "## Building model"
      ]
    },
    {
      "cell_type": "code",
      "execution_count": 41,
      "id": "ee7bb345",
      "metadata": {
        "id": "ee7bb345"
      },
      "outputs": [],
      "source": [
        "from sklearn.ensemble import RandomForestRegressor\n",
        "from sklearn.datasets import make_regression\n",
        "from sklearn.model_selection import train_test_split\n",
        "from sklearn.metrics import mean_squared_error\n",
        "from sklearn.model_selection import RandomizedSearchCV"
      ]
    },
    {
      "cell_type": "code",
      "execution_count": 42,
      "id": "bf542c20",
      "metadata": {
        "colab": {
          "base_uri": "https://localhost:8080/"
        },
        "id": "bf542c20",
        "outputId": "10730306-a94f-446c-bde6-0ece3e60f820"
      },
      "outputs": [
        {
          "output_type": "execute_result",
          "data": {
            "text/plain": [
              "id          int64\n",
              "cat1       object\n",
              "cat2       object\n",
              "cat3       object\n",
              "cat4       object\n",
              "           ...   \n",
              "cont11    float64\n",
              "cont12    float64\n",
              "cont13    float64\n",
              "cont14    float64\n",
              "loss      float64\n",
              "Length: 132, dtype: object"
            ]
          },
          "metadata": {},
          "execution_count": 42
        }
      ],
      "source": [
        "Column_datatypes= train_data.dtypes\n",
        "column_datatypes"
      ]
    },
    {
      "cell_type": "code",
      "execution_count": 43,
      "id": "eb1a4ddb",
      "metadata": {
        "id": "eb1a4ddb"
      },
      "outputs": [],
      "source": [
        "Integer_columns = list(Column_datatypes.where(lambda x: x ==\"int64\").dropna().index.values)\n",
        "train_data[Integer_columns] = train_data[Integer_columns].astype('category',copy=False)\n",
        "X,y = train_data.drop(['id','loss'],axis=1),train_data['loss']\n",
        "X_train, X_test, y_train, y_test = train_test_split(X, y, test_size=0.33, random_state=42)"
      ]
    },
    {
      "cell_type": "code",
      "execution_count": 45,
      "id": "870d2a09",
      "metadata": {
        "colab": {
          "base_uri": "https://localhost:8080/"
        },
        "id": "870d2a09",
        "outputId": "59537f19-9448-4899-ba28-f5fcf534dc4e"
      },
      "outputs": [
        {
          "output_type": "execute_result",
          "data": {
            "text/plain": [
              "RandomForestRegressor(oob_score=True, random_state=42)"
            ]
          },
          "metadata": {},
          "execution_count": 45
        }
      ],
      "source": [
        "rf_base = RandomForestRegressor(n_estimators = 100, random_state = 42,oob_score = True)\n",
        "rf_base.fit(X_train, y_train) "
      ]
    },
    {
      "cell_type": "code",
      "execution_count": 46,
      "id": "a1128525",
      "metadata": {
        "id": "a1128525"
      },
      "outputs": [],
      "source": [
        "pickle.dump(rf_base, open(\"basemodel_rf\", 'wb'))"
      ]
    },
    {
      "cell_type": "code",
      "execution_count": 47,
      "id": "5461c1b1",
      "metadata": {
        "id": "5461c1b1"
      },
      "outputs": [],
      "source": [
        "#load the saved model and predict on the test data\n",
        "basedmodel_rf = pickle.load(open(\"basemodel_rf\", 'rb'))"
      ]
    },
    {
      "cell_type": "code",
      "execution_count": 48,
      "id": "b9909bf9",
      "metadata": {
        "colab": {
          "base_uri": "https://localhost:8080/"
        },
        "id": "b9909bf9",
        "outputId": "e0457b24-807a-4557-cad0-08392c95b4e4"
      },
      "outputs": [
        {
          "output_type": "stream",
          "name": "stdout",
          "text": [
            "Base model accuracy: 0.6664548716777815\n"
          ]
        }
      ],
      "source": [
        "Y_test_predict_base = basedmodel_rf.predict(X_test)\n",
        "print(\"Base model accuracy:\",np.sqrt(mean_squared_error(y_test, Y_test_predict_base)))"
      ]
    },
    {
      "cell_type": "markdown",
      "id": "dde21396",
      "metadata": {
        "id": "dde21396"
      },
      "source": [
        "## Hyperparameter Tuning"
      ]
    },
    {
      "cell_type": "code",
      "execution_count": 49,
      "id": "ef8c3cb8",
      "metadata": {
        "id": "ef8c3cb8"
      },
      "outputs": [],
      "source": [
        "#number of trees\n",
        "n_estimators = [100,200,300,400,500]\n",
        "# Number of features to consider at every split\n",
        "max_features = ['auto', 'sqrt']\n",
        "# Maximum number of levels in tree\n",
        "max_depth = [int(x) for x in np.linspace(10, 110, num = 11)]\n",
        "# Minimum number of samples required to split a node\n",
        "min_samples_split = [200,400,600]\n",
        "# Minimum number of samples required at each leaf node\n",
        "min_samples_leaf = [1, 2, 4]\n",
        "# Method of selecting samples for training each tree\n",
        "bootstrap = [True, False]\n",
        "\n",
        "# Create the random grid\n",
        "random_grid = {'n_estimators': n_estimators,\n",
        "               'max_features': max_features,\n",
        "               'max_depth': max_depth,\n",
        "               'min_samples_split': min_samples_split,\n",
        "               'min_samples_leaf': min_samples_leaf,\n",
        "               'bootstrap': bootstrap}"
      ]
    },
    {
      "cell_type": "code",
      "source": [
        "rf = RandomForestRegressor()\n",
        "\n",
        "\n",
        "rf_tuned = RandomizedSearchCV(estimator = rf, param_distributions = random_grid, cv = 3,n_iter = 5, verbose=2, random_state=42, n_jobs = -1)\n",
        "\n",
        "\n",
        "rf_tuned.fit(X_train, y_train)\n",
        "\n",
        "\n",
        "pickle.dump(rf_tuned, open(\"tunedmodel_rf\", 'wb'))"
      ],
      "metadata": {
        "id": "71pyUxn_b7Qc"
      },
      "id": "71pyUxn_b7Qc",
      "execution_count": null,
      "outputs": []
    },
    {
      "cell_type": "code",
      "execution_count": null,
      "id": "0f1fc9a5",
      "metadata": {
        "id": "0f1fc9a5"
      },
      "outputs": [],
      "source": [
        "tunedmodel_rf = pickle.load(open(\"tunedmodel_rf\", 'rb'))\n",
        "\n",
        "Y_test_predict_tuned = tunedmodel_rf.predict(X_test)\n",
        "print(\"Tuned model accuracy:\",np.sqrt(mean_squared_error(y_test, Y_test_predict_tuned)))"
      ]
    },
    {
      "cell_type": "markdown",
      "id": "5575f4b2",
      "metadata": {
        "id": "5575f4b2"
      },
      "source": [
        "## Gradient Boosting Regressor Model"
      ]
    },
    {
      "cell_type": "code",
      "execution_count": 51,
      "id": "f8c2cc70",
      "metadata": {
        "id": "f8c2cc70"
      },
      "outputs": [],
      "source": [
        "from sklearn.ensemble import GradientBoostingRegressor  #GBM algorithm\n",
        "gbm_base = GradientBoostingRegressor(\n",
        "    max_depth=2,\n",
        "    n_estimators=3,\n",
        "    learning_rate=1.0)\n",
        "\n",
        "gbm_base.fit(X_train,y_train) # fit the gbm moodel\n",
        "\n",
        "#save the GBM model\n",
        "pickle.dump(gbm_base, open(\"basemodel_GBM\", 'wb'))"
      ]
    },
    {
      "cell_type": "code",
      "execution_count": 52,
      "id": "41aeba70",
      "metadata": {
        "colab": {
          "base_uri": "https://localhost:8080/"
        },
        "id": "41aeba70",
        "outputId": "1db39724-f317-4b3a-ba6f-5661d3feba7f"
      },
      "outputs": [
        {
          "output_type": "stream",
          "name": "stdout",
          "text": [
            "Base model GBM accuracy: 0.70044181319114\n"
          ]
        }
      ],
      "source": [
        "#load the saved model and predict on the test data\n",
        "basemodel_GBM = pickle.load(open(\"basemodel_GBM\", 'rb'))\n",
        "\n",
        "Y_test_predict_tuned = basemodel_GBM.predict(X_test)\n",
        "print(\"Base model GBM accuracy:\",np.sqrt(mean_squared_error(y_test, Y_test_predict_tuned)))"
      ]
    },
    {
      "cell_type": "code",
      "source": [],
      "metadata": {
        "id": "rXr3PAWcb99A"
      },
      "id": "rXr3PAWcb99A",
      "execution_count": null,
      "outputs": []
    }
  ],
  "metadata": {
    "kernelspec": {
      "display_name": "Python 3 (ipykernel)",
      "language": "python",
      "name": "python3"
    },
    "language_info": {
      "codemirror_mode": {
        "name": "ipython",
        "version": 3
      },
      "file_extension": ".py",
      "mimetype": "text/x-python",
      "name": "python",
      "nbconvert_exporter": "python",
      "pygments_lexer": "ipython3",
      "version": "3.9.12"
    },
    "colab": {
      "provenance": []
    }
  },
  "nbformat": 4,
  "nbformat_minor": 5
}